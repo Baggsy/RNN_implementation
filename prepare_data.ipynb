{
 "cells": [
  {
   "cell_type": "code",
   "execution_count": 1,
   "metadata": {
    "collapsed": true
   },
   "outputs": [],
   "source": [
    "from pylab import *\n",
    "import random\n",
    "import csv\n",
    "\n",
    "n_sets = 8\n",
    "n_folds = 4\n",
    "batch_size = 32\n",
    "min_val_size = batch_size*5\n",
    "\n",
    "x = [[] for _ in xrange(n_sets)]\n",
    "y = [[] for _ in xrange(n_sets)]\n",
    "x_train = [[] for _ in xrange(n_folds)]\n",
    "x_val = [[] for _ in xrange(n_folds)]\n",
    "x_test = [[] for _ in xrange(n_folds)]\n",
    "y_train = [[] for _ in xrange(n_folds)]\n",
    "y_val = [[] for _ in xrange(n_folds)]\n",
    "y_test = [[] for _ in xrange(n_folds)]\n",
    "\n",
    "# Naming convention of the files\n",
    "file_str_data = \"backup/csv_training_cells_\"\n",
    "file_type = \".csv\"\n",
    "file_str_truth = \"backup/csv_truth_cells_\"      \n"
   ]
  },
  {
   "cell_type": "code",
   "execution_count": 2,
   "metadata": {},
   "outputs": [],
   "source": [
    "# Reading the data files\n",
    "for i in range(0, n_sets):\n",
    "    file_name_data = file_str_data + str(i+1) + file_type\n",
    "    file_name_truth = file_str_truth + str(i+1) + file_type\n",
    "    x[i] = np.array(list(csv.reader(open(file_name_data))))\n",
    "    y[i] = np.array(list(csv.reader(open(file_name_truth))))\n",
    "\n",
    "# Onehotencoding formatting\n",
    "y_OneHotEncoded = [[] for _ in xrange(n_sets)]\n",
    "for i in range(0, n_sets):\n",
    "    y_OneHotEncoded[i] = zeros([len(y[i]), 2])\n",
    "    a = np.array(y[i] == '1').astype(int)\n",
    "    b = np.array(y[i] == '2').astype(int)\n",
    "    y_OneHotEncoded[i] = np.concatenate((a, b), axis=1)\n",
    "\n"
   ]
  },
  {
   "cell_type": "code",
   "execution_count": 3,
   "metadata": {},
   "outputs": [],
   "source": [
    "# 1: Training: L2, L3, L5, L6, L7, L8\n",
    "#    Test: L1, L4\n",
    "x_train[0] = np.concatenate((x[1], x[2], x[4], x[5], x[6], x[7]), axis=0)\n",
    "x_test[0] = np.concatenate((x[0], x[3]), axis=0)\n",
    "y_train[0] = np.concatenate((y_OneHotEncoded[1], y_OneHotEncoded[2], y_OneHotEncoded[4], y_OneHotEncoded[5], y_OneHotEncoded[6], y_OneHotEncoded[7]), axis=0)\n",
    "y_test[0] = np.concatenate((y_OneHotEncoded[0], y_OneHotEncoded[3]), axis=0)\n",
    "\n",
    "# 2: Training: L1, L3, L4, L5, L6, L8\n",
    "#    Test: L2, L7\n",
    "x_train[1] = np.concatenate((x[0], x[2], x[3], x[4], x[5], x[7]), axis=0)\n",
    "x_test[1] = np.concatenate((x[1], x[6]), axis=0)\n",
    "y_train[1] = np.concatenate((y_OneHotEncoded[0], y_OneHotEncoded[2], y_OneHotEncoded[3], y_OneHotEncoded[4], y_OneHotEncoded[5], y_OneHotEncoded[7]), axis=0)\n",
    "y_test[1] = np.concatenate((y_OneHotEncoded[1], y_OneHotEncoded[6]), axis=0)\n",
    "\n",
    "# 3: Training: L1, L2, L3, L4, L5, L7\n",
    "#    Test: L6, L8\n",
    "x_train[2] = np.concatenate((x[0], x[1], x[2], x[3], x[4], x[6]), axis=0)\n",
    "x_test[2] = np.concatenate((x[5], x[7]), axis=0)\n",
    "y_train[2] = np.concatenate((y_OneHotEncoded[0], y_OneHotEncoded[1], y_OneHotEncoded[2], y_OneHotEncoded[3], y_OneHotEncoded[4], y_OneHotEncoded[6]), axis=0)\n",
    "y_test[2] = np.concatenate((y_OneHotEncoded[5], y_OneHotEncoded[7]), axis=0)\n",
    "\n",
    "# 4: Training: L1, L2, L4, L6, L7, L8\n",
    "#    Test: L3, L5\n",
    "x_train[3] = np.concatenate((x[0], x[1], x[3], x[5], x[6], x[7]), axis=0)\n",
    "x_test[3] = np.concatenate((x[2], x[4]), axis=0)\n",
    "y_train[3] = np.concatenate((y_OneHotEncoded[0], y_OneHotEncoded[1], y_OneHotEncoded[3], y_OneHotEncoded[5], y_OneHotEncoded[6], y_OneHotEncoded[7]), axis=0)\n",
    "y_test[3] = np.concatenate((y_OneHotEncoded[2], y_OneHotEncoded[4]), axis=0)\n",
    "\n",
    "\n"
   ]
  },
  {
   "cell_type": "code",
   "execution_count": 9,
   "metadata": {},
   "outputs": [],
   "source": [
    "for i in xrange(n_folds):\n",
    "    n_indx = len(x_train[i]) % batch_size\n",
    "    indixes = random.sample(xrange(len(x_train[i])), min_val_size+n_indx)\n",
    "    x_val[i] = x_train[i][indixes]\n",
    "    y_val[i] = y_train[i][indixes]\n",
    "    x_train[i] = np.delete(x_train[i], indixes, 0)\n",
    "    y_train[i] = np.delete(y_train[i], indixes, 0)"
   ]
  },
  {
   "cell_type": "code",
   "execution_count": 10,
   "metadata": {},
   "outputs": [],
   "source": [
    "\n",
    "\n",
    "path = \"data/\"\n",
    "\n",
    "for i in range(0, n_folds):\n",
    "\n",
    "    # writing data to separate files\n",
    "    with open(path + \"x_train[\" + str(i) + \"].csv\", \"w+\") as my_csv:\n",
    "        csvWriter = csv.writer(my_csv, delimiter=',')\n",
    "        csvWriter.writerows(x_train[i])\n",
    "\n",
    "    with open(path + \"y_train[\" + str(i) + \"].csv\", \"w+\") as my_csv:\n",
    "        csvWriter = csv.writer(my_csv, delimiter=',')\n",
    "        csvWriter.writerows(y_train[i])\n",
    "\n",
    "    with open(path + \"x_test[\" + str(i) + \"].csv\", \"w+\") as my_csv:\n",
    "        csvWriter = csv.writer(my_csv, delimiter=',')\n",
    "        csvWriter.writerows(x_test[i])\n",
    "\n",
    "    with open(path + \"y_test[\" + str(i) + \"].csv\", \"w+\") as my_csv:\n",
    "        csvWriter = csv.writer(my_csv, delimiter=',')\n",
    "        csvWriter.writerows(y_test[i])\n",
    "\n",
    "    with open(path + \"x_val[\" + str(i) + \"].csv\", \"w+\") as my_csv:\n",
    "        csvWriter = csv.writer(my_csv, delimiter=',')\n",
    "        csvWriter.writerows(x_val[i])\n",
    "        \n",
    "    with open(path + \"y_val[\" + str(i) + \"].csv\", \"w+\") as my_csv:\n",
    "        csvWriter = csv.writer(my_csv, delimiter=',')\n",
    "        csvWriter.writerows(y_val[i])\n"
   ]
  },
  {
   "cell_type": "code",
   "execution_count": 11,
   "metadata": {},
   "outputs": [],
   "source": []
  },
  {
   "cell_type": "code",
   "execution_count": 11,
   "metadata": {},
   "outputs": [],
   "source": [
    ""
   ]
  },
  {
   "cell_type": "code",
   "execution_count": null,
   "metadata": {},
   "outputs": [],
   "source": []
  }
 ],
 "metadata": {
  "kernelspec": {
   "display_name": "Python 2",
   "language": "python",
   "name": "python2"
  },
  "language_info": {
   "codemirror_mode": {
    "name": "ipython",
    "version": 2
   },
   "file_extension": ".py",
   "mimetype": "text/x-python",
   "name": "python",
   "nbconvert_exporter": "python",
   "pygments_lexer": "ipython2",
   "version": "2.7.6"
  }
 },
 "nbformat": 4,
 "nbformat_minor": 0
}
